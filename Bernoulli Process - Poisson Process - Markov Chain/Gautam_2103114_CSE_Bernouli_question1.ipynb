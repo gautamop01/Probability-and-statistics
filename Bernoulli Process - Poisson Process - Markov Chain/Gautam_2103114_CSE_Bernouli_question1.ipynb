{
  "cells": [
    {
      "cell_type": "code",
      "execution_count": 1,
      "metadata": {
        "colab": {
          "base_uri": "https://localhost:8080/",
          "height": 317
        },
        "id": "YG47oIL0yb_M",
        "outputId": "a7a64f86-1ae1-4135-b25a-38e9b947df0c"
      },
      "outputs": [
        {
          "ename": "ModuleNotFoundError",
          "evalue": "No module named 'matplotlib'",
          "output_type": "error",
          "traceback": [
            "\u001b[1;31m---------------------------------------------------------------------------\u001b[0m",
            "\u001b[1;31mModuleNotFoundError\u001b[0m                       Traceback (most recent call last)",
            "Cell \u001b[1;32mIn[1], line 4\u001b[0m\n\u001b[0;32m      1\u001b[0m \u001b[39m# Roll N. 2103114\u001b[39;00m\n\u001b[0;32m      2\u001b[0m \u001b[39m# Importing important libraries\u001b[39;00m\n\u001b[0;32m      3\u001b[0m \u001b[39mimport\u001b[39;00m \u001b[39mrandom\u001b[39;00m\n\u001b[1;32m----> 4\u001b[0m \u001b[39mfrom\u001b[39;00m \u001b[39mmatplotlib\u001b[39;00m \u001b[39mimport\u001b[39;00m pyplot \u001b[39mas\u001b[39;00m plt\n\u001b[0;32m      5\u001b[0m prob,t \u001b[39m=\u001b[39m \u001b[39m0.5\u001b[39m,\u001b[39m10000\u001b[39m  \u001b[39m# Here prob is probability and t is trials  \u001b[39;00m\n\u001b[0;32m      6\u001b[0m arrivals_list \u001b[39m=\u001b[39m [] \u001b[39m# arrivals list\u001b[39;00m\n",
            "\u001b[1;31mModuleNotFoundError\u001b[0m: No module named 'matplotlib'"
          ]
        }
      ],
      "source": [
        "# Roll N. 2103114\n",
        "# Importing important libraries\n",
        "import random\n",
        "from matplotlib import pyplot as plt\n",
        "prob,t = 0.5,10000  # Here prob is probability and t is trials  \n",
        "arrivals_list = [] # arrivals list\n",
        "k = 4; # arrivals Value\n",
        "for i in range(t): # tries to obtain k arrivals\n",
        "  c,j = 0,0 \n",
        "  while(c < k): \n",
        "    j+=1\n",
        "    if random.uniform(0,1) < prob:\n",
        "      c+=1\n",
        "  arrivals_list+=[j]\n",
        "set_arrivals_list = set(arrivals_list)\n",
        "dict_arrivals = {}\n",
        "\n",
        "for i in set_arrivals_list: # construct a dictionary of recurring arrivals.\n",
        "  dict_arrivals[i] = 0 \n",
        "for i in arrivals_list:\n",
        "  dict_arrivals[i] += 1\n",
        "Prob_arrival = {} # Graphing dictionary of arrival probabilities\n",
        "for i in dict_arrivals: \n",
        "  Prob_arrival[i] = dict_arrivals[i]/t\n",
        "\n",
        "print(Prob_arrival)\n",
        "\n",
        "# Now, graphing the data\n",
        "x_axis = list(Prob_arrival.keys())  # list all arrival values on X axis\n",
        "y_axis = list(Prob_arrival.values())  # list all arrival values on Y axis\n",
        "plt.bar(x_axis,y_axis,color = 'orange',edgecolor = 'black',width = 0.8) # Give colors and width \n",
        "plt.xlabel(str(k) +\" success\") # Print \"k=1,2.... Success\" on x axis\n",
        "plt.ylabel(\"Probability\") # Print \"probability\" on y axis\n",
        "plt.show()\n",
        "# The binomial distribution for kth success and the distribution obtained in the shown graph are fairly comparable (-ve)"
      ]
    }
  ],
  "metadata": {
    "colab": {
      "provenance": []
    },
    "kernelspec": {
      "display_name": "Python 3.11.0 64-bit",
      "language": "python",
      "name": "python3"
    },
    "language_info": {
      "codemirror_mode": {
        "name": "ipython",
        "version": 3
      },
      "file_extension": ".py",
      "mimetype": "text/x-python",
      "name": "python",
      "nbconvert_exporter": "python",
      "pygments_lexer": "ipython3",
      "version": "3.11.0"
    },
    "vscode": {
      "interpreter": {
        "hash": "f0d33e93388ea6108120adc816cfc3c97d1cce638000bd81fc6d05a2e6813581"
      }
    }
  },
  "nbformat": 4,
  "nbformat_minor": 0
}
