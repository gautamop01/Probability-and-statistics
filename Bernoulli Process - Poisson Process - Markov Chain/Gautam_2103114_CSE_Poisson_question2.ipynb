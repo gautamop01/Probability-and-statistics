{
  "nbformat": 4,
  "nbformat_minor": 0,
  "metadata": {
    "colab": {
      "provenance": []
    },
    "kernelspec": {
      "name": "python3",
      "display_name": "Python 3"
    },
    "language_info": {
      "name": "python"
    }
  },
  "cells": [
    {
      "cell_type": "code",
      "source": [
        "# Roll.N. 2103114\n",
        "# import libraries\n",
        "import random\n",
        "from matplotlib import pyplot as plt\n",
        "\n",
        "# Given values and initial variables\n",
        "d_t,l1 = 0.0001,2\n",
        "k = 10\n",
        "time = [] # Time list\n",
        "for i in range(1000): # Recording times of arrival\n",
        "  j,t=0,0\n",
        "  while (j < k):\n",
        "    if (random.uniform(0,1) < l1*d_t):\n",
        "      j += 1\n",
        "    t += d_t\n",
        "  time += [t]\n",
        "\n",
        "# Here, Ploting the histogram \n",
        "plt.hist(time, color='orange', edgecolor='black', width=0.8)\n",
        "plt.title(\"Empirical Distribution\") # Give Title Name to Graph\n",
        "plt.xlabel(str(k) + \" Arrival Time\")  # Print \"Arrivsl time\" on x axis\n",
        "plt.ylabel(\"Probability\") # Print \"probability\" on y axis\n",
        "plt.show()\n",
        "\n"
      ],
      "metadata": {
        "colab": {
          "base_uri": "https://localhost:8080/",
          "height": 295
        },
        "id": "U-8dfDz8Hr53",
        "outputId": "e50e0b47-3de2-4267-9ff3-727221ee710e"
      },
      "execution_count": 121,
      "outputs": [
        {
          "output_type": "display_data",
          "data": {
            "text/plain": [
              "<Figure size 432x288 with 1 Axes>"
            ],
            "image/png": "[encoded data removed]"
          },
          "metadata": {
            "needs_background": "light"
          }
        }
      ]
    }
  ]
}