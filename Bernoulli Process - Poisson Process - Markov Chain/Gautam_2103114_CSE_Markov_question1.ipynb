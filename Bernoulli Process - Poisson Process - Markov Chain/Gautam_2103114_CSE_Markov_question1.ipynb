{
  "nbformat": 4,
  "nbformat_minor": 0,
  "metadata": {
    "colab": {
      "provenance": []
    },
    "kernelspec": {
      "name": "python3",
      "display_name": "Python 3"
    },
    "language_info": {
      "name": "python"
    }
  },
  "cells": [
    {
      "cell_type": "code",
      "source": [
        "# Roll.n. 2103114\n",
        "# Import libraries\n",
        "import random\n",
        "from matplotlib import pyplot as plt\n",
        "\n",
        "# These Informations and a few basic variables are \n",
        "p,q = 1/4,1/4 # Given values\n",
        "M,n = 4,100\n",
        "n_t = 10000;\n",
        "initial_state = 0 #initial state in zero\n",
        "pie = 1/(M + 1)\n",
        "state_lst = [] # The list of total states\n",
        "for i in range(M+1):\n",
        "  state_lst += [i]\n",
        "state_n = []\n",
        "for i in range(n_t): # trials for the nth state\n",
        "  next = initial_state\n",
        "  for j in range(n):\n",
        "    random_prob = random.uniform(0,1)\n",
        "    if (random_prob < p):\n",
        "      if (next != M):\n",
        "        next = next+1\n",
        "    elif (random_prob < p+q):\n",
        "      if (next != 0):\n",
        "          next = next-1\n",
        "  state_n += [next]\n",
        "# graphing by storing values in a dictionary\n",
        "set_state_n = set(state_n)\n",
        "dict_state_n_prob = {}\n",
        "for i in set_state_n:\n",
        "  dict_state_n_prob[i] = 0\n",
        "for i in state_n:\n",
        "  dict_state_n_prob[i] += 1/n_t\n",
        "print(\"THE FINAL STATE PROBABILITIES ARE : \") # printing \n",
        "print(dict_state_n_prob),print(\"\\n\")\n",
        "\n",
        "\n"
      ],
      "metadata": {
        "colab": {
          "base_uri": "https://localhost:8080/"
        },
        "id": "7jZ5gsdImHWk",
        "outputId": "fbdef062-efea-4278-f9d4-d10a6bf901fc"
      },
      "execution_count": 160,
      "outputs": [
        {
          "output_type": "stream",
          "name": "stdout",
          "text": [
            "THE FINAL STATE PROBABILITIES ARE : \n",
            "{0: 0.19839999999999447, 1: 0.20249999999999402, 2: 0.2034999999999939, 3: 0.19649999999999468, 4: 0.1990999999999944}\n",
            "\n",
            "\n"
          ]
        },
        {
          "output_type": "execute_result",
          "data": {
            "text/plain": [
              "(None, None)"
            ]
          },
          "metadata": {},
          "execution_count": 160
        }
      ]
    }
  ]
}