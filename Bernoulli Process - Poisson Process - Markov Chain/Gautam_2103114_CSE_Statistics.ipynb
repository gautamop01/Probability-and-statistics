{
  "cells": [
    {
      "cell_type": "code",
      "execution_count": 173,
      "metadata": {
        "colab": {
          "base_uri": "https://localhost:8080/"
        },
        "id": "59_VcxvVtcaC",
        "outputId": "63a71da3-ece3-4084-9442-a680ce2c8bd6"
      },
      "outputs": [
        {
          "name": "stdout",
          "output_type": "stream",
          "text": [
            "CHEBYSHEV INEWUALITY -> We get the value of probability as:  0.0\n",
            "CENTRAL LIMIT THEOREM -> We get the value of probability as:  0.0491\n",
            "I would prefer to choose Central Limit Theorem if my aim is to minimise the number of experiments otherwise i'll prefer Chebyshev as the error is almost zero in this case. \n",
            " The Central Limit Theorem requires fewer experiments than the Chebyshev Theorem, but the error in case of Central Limit Theorem is much higher.\n"
          ]
        }
      ],
      "source": [
        "# Roll.n. 2103114\n",
        "# Import libraries\n",
        "import numpy as np\n",
        "import matplotlib.pyplot as plt\n",
        "\n",
        "# Given values and initial variables\n",
        "num_exp_n,mue_A,epsilon = 10000,0.55,0.03\n",
        "\n",
        "# Chebyshev's inequality -->\n",
        "cheby_num_exp = 5556 # all Given values \n",
        "cheby_fav = 0\n",
        "for i in range(num_exp_n): # Now, Calculating the Chebyshev inequality\n",
        "  mn_cheb_shev = np.random.binomial(cheby_num_exp ,mue_A) / cheby_num_exp\n",
        "  if abs(mn_cheb_shev - mue_A) > epsilon:\n",
        "    cheby_fav += 1\n",
        "# Here is the result\n",
        "print(\"CHEBYSHEV INEQUALITY -> We get the value of probability as: \", cheby_fav / num_exp_n)\n",
        "\n",
        "# From Central Limit Theorem -->\n",
        "num_exp_central_lmt = 1067 # Given values \n",
        "central_lmt_fav = 0\n",
        "for i in range(num_exp_n): # Now, Calculating the Central Limit Theorem\n",
        "  mn_central_lmt = np.random.binomial(num_exp_central_lmt ,mue_A) / num_exp_central_lmt\n",
        "  if abs(mn_central_lmt - mue_A) > epsilon:\n",
        "    central_lmt_fav += 1\n",
        "\n",
        "# Printing the result\n",
        "print(\"CENTRAL LIMIT THEOREM -> We get the value of probability as: \", central_lmt_fav / num_exp_n)\n",
        "# Here is the Observation\n",
        "print('''I would prefer to choose Central Limit Theorem if my aim is to minimise the number of experiments otherwise i'll prefer Chebyshev as the error is almost zero in this case. \\n The Central Limit Theorem requires fewer experiments than the Chebyshev Theorem, but the error in case of Central Limit Theorem is much higher.''' )\n",
        "\n"
      ]
    }
  ],
  "metadata": {
    "colab": {
      "provenance": []
    },
    "kernelspec": {
      "display_name": "Python 3",
      "name": "python3"
    },
    "language_info": {
      "name": "python"
    }
  },
  "nbformat": 4,
  "nbformat_minor": 0
}
