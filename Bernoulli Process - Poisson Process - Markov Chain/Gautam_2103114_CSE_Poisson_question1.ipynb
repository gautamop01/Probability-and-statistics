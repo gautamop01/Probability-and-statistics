{
  "cells": [
    {
      "cell_type": "code",
      "execution_count": 2,
      "metadata": {
        "colab": {
          "base_uri": "https://localhost:8080/",
          "height": 573
        },
        "id": "07nxwbqAAI5O",
        "outputId": "a5d98ee0-4dba-4c97-e87d-2a8dd2692433"
      },
      "outputs": [],
      "source": [
        "# Roll. N. 2103114\n",
        "# Import libraries\n",
        "import random\n",
        "from matplotlib import pyplot as plt\n",
        "\n",
        "# Given info and some initial variables\n",
        "trial,num=20,1000\n",
        "num_of_trials = 10000\n",
        "del_trial = trial/num\n",
        "l1,l2 = 1,2\n",
        "l3 = l1 + l2\n",
        "k_s3_l = []\n",
        "joint_k = []\n",
        "for i in range(num_of_trials): # Merging queues\n",
        "  k,k3 = 0,0\n",
        "  for j in range(num):\n",
        "    if(random.uniform(0,1) < l1*del_trial):\n",
        "      k += 1\n",
        "    elif (random.uniform(0,1) < l2*del_trial):\n",
        "      k += 1\n",
        "    if (random.uniform(0,1) < l3*del_trial):\n",
        "      k3 += 1\n",
        "  k_s3_l += [k3]\n",
        "  joint_k += [k]\n",
        "dict_joint = {} # putting values in the appropriate dictionaries and plotting graphs\n",
        "dict_s3 = {}\n",
        "\n",
        "set_joint_k = set(joint_k)\n",
        "seq3_set = set(k_s3_l)\n",
        "for i in seq3_set:\n",
        "  dict_s3[i] = 0\n",
        "for i in set_joint_k:\n",
        "  dict_joint[i] = 0\n",
        "for i in joint_k:\n",
        "  dict_joint[i] += 1/num_of_trials\n",
        "for i in k_s3_l :\n",
        "  dict_s3[i] += 1/num_of_trials\n",
        "\n",
        "# Plot the graph of combined state\n",
        "x = list(dict_joint.keys())\n",
        "y = list(dict_joint.values())\n",
        "plt.bar(x,y,color='orange',edgecolor='black',width=0.3)\n",
        "plt.xlabel(\"Num of arrivals\")\n",
        "plt.ylabel(\"Probabilityy\") # Print \"probability\" on y axis\n",
        "plt.title(\"Combined Prob. Distribution\") # Givw title name to graph\n",
        "plt.show()\n",
        "\n",
        "# Ploting the graph of Poisson process with λ = 3\n",
        "x_axis= list(dict_s3.keys()) # list all arrival values on X axis\n",
        "y_axis = list(dict_s3.values())  # list all arrival values on y axis\n",
        "plt.bar(x_axis,y_axis,color='orange',edgecolor='black',width=0.3)\n",
        "plt.xlabel(\" Num Arrivals \")\n",
        "plt.ylabel(\"Probability\") # Print \"probability\" on y axis\n",
        "plt.title(\"Prob. Distribution - Poisson Process (λ = 3)\") # Give Title Name to Graph\n",
        "plt.show()\n",
        "\n"
      ]
    }
  ],
  "metadata": {
    "colab": {
      "provenance": []
    },
    "kernelspec": {
      "display_name": "Python 3",
      "language": "python",
      "name": "python3"
    },
    "language_info": {
      "codemirror_mode": {
        "name": "ipython",
        "version": 3
      },
      "file_extension": ".py",
      "mimetype": "text/x-python",
      "name": "python",
      "nbconvert_exporter": "python",
      "pygments_lexer": "ipython3",
      "version": "3.11.0"
    },
    "vscode": {
      "interpreter": {
        "hash": "f0d33e93388ea6108120adc816cfc3c97d1cce638000bd81fc6d05a2e6813581"
      }
    }
  },
  "nbformat": 4,
  "nbformat_minor": 0
}
